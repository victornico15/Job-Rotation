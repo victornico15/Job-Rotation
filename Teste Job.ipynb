{
 "cells": [
  {
   "cell_type": "code",
   "execution_count": null,
   "metadata": {},
   "outputs": [],
   "source": [
    "#QUESTÃO NUMERO 2\n",
    "\n",
    "\n",
    "n = int(input(\"Que termo deseja encontrar: \"))\n",
    "ultimo=1\n",
    "penultimo=1\n",
    "\n",
    "\n",
    "if (n==1) or (n==2):\n",
    "    print(\"1\")\n",
    "else:\n",
    "    count=3\n",
    "    while count <= n:\n",
    "        termo = ultimo + penultimo\n",
    "        penultimo = ultimo\n",
    "        ultimo = termo\n",
    "        count += 1\n",
    "        if(n==termo):\n",
    "            print(\"o numero digitado pertence a sequencia de fibo\",n)\n",
    "            break \n",
    "    print(termo)\n",
    "\n"
   ]
  },
  {
   "cell_type": "code",
   "execution_count": 7,
   "metadata": {},
   "outputs": [
    {
     "ename": "ModuleNotFoundError",
     "evalue": "No module named 'pandas'",
     "output_type": "error",
     "traceback": [
      "\u001b[1;31m---------------------------------------------------------------------------\u001b[0m",
      "\u001b[1;31mModuleNotFoundError\u001b[0m                       Traceback (most recent call last)",
      "\u001b[1;32mc:\\Users\\vnesp\\Dropbox\\My PC (LAPTOP-FS94BQ5T)\\Documents\\GitHub\\Job-Rotation\\Teste Job.ipynb Cell 2'\u001b[0m in \u001b[0;36m<cell line: 3>\u001b[1;34m()\u001b[0m\n\u001b[0;32m      <a href='vscode-notebook-cell:/c%3A/Users/vnesp/Dropbox/My%20PC%20%28LAPTOP-FS94BQ5T%29/Documents/GitHub/Job-Rotation/Teste%20Job.ipynb#ch0000001?line=0'>1</a>\u001b[0m \u001b[39m#Questão 3\u001b[39;00m\n\u001b[1;32m----> <a href='vscode-notebook-cell:/c%3A/Users/vnesp/Dropbox/My%20PC%20%28LAPTOP-FS94BQ5T%29/Documents/GitHub/Job-Rotation/Teste%20Job.ipynb#ch0000001?line=2'>3</a>\u001b[0m \u001b[39mimport\u001b[39;00m \u001b[39mpandas\u001b[39;00m \u001b[39mas\u001b[39;00m \u001b[39mArq\u001b[39;00m\n\u001b[0;32m      <a href='vscode-notebook-cell:/c%3A/Users/vnesp/Dropbox/My%20PC%20%28LAPTOP-FS94BQ5T%29/Documents/GitHub/Job-Rotation/Teste%20Job.ipynb#ch0000001?line=3'>4</a>\u001b[0m \u001b[39mimport\u001b[39;00m \u001b[39mnumpy\u001b[39;00m \u001b[39mas\u001b[39;00m \u001b[39mnp\u001b[39;00m\n\u001b[0;32m      <a href='vscode-notebook-cell:/c%3A/Users/vnesp/Dropbox/My%20PC%20%28LAPTOP-FS94BQ5T%29/Documents/GitHub/Job-Rotation/Teste%20Job.ipynb#ch0000001?line=6'>7</a>\u001b[0m dados \u001b[39m=\u001b[39m Arq\u001b[39m.\u001b[39mread_json(\u001b[39m\"\u001b[39m\u001b[39mdados.json\u001b[39m\u001b[39m\"\u001b[39m) \n",
      "\u001b[1;31mModuleNotFoundError\u001b[0m: No module named 'pandas'"
     ]
    }
   ],
   "source": [
    "\n",
    "#Questão 3\n",
    "\n",
    "import pandas as Arq\n",
    "import numpy as np\n",
    "\n",
    "\n",
    "dados = Arq.read_json(\"dados.json\") \n",
    "\n",
    "dias_validos = dados[\"valor\"] != 0.0\n",
    "dados = dados[dias_validos]\n",
    "                \n",
    "print(\"o dia com menor faturamento foi\",dados.min()['valor'])\n",
    "print(\"o dia com maior faturamento foi\",dados.max()['valor'])\n",
    "print(\"a media do mes foi \",dados.mean()['valor'])\n",
    "\n",
    "media_mensal = dados.mean()[\"valor\"]\n",
    "media_mensal_superior = dados[\"valor\"] > media_mensal\n",
    "dias_superior = dados[media_mensal_superior].shape[0]\n",
    "print(\"Teve \",dias_superior,\"dias acima da media \")\n",
    "\n",
    "\n"
   ]
  },
  {
   "cell_type": "code",
   "execution_count": null,
   "metadata": {},
   "outputs": [],
   "source": [
    "#Questão 4\n",
    "\n",
    "SP = 67836.43\n",
    "RJ = 36678.66\n",
    "MG = 29229.88\n",
    "ES = 27165.48\n",
    "OUTROS = 19849.53\n",
    "\n",
    "TOTAL = SP + RJ + MG + ES + OUTROS\n",
    "PERC_SP = SP / TOTAL * 100\n",
    "PERC_RJ = RJ / TOTAL * 100\n",
    "PERC_MG = MG / TOTAL * 100\n",
    "PERC_ES = ES / TOTAL * 100\n",
    "PERC_OUTROS = OUTROS / TOTAL * 100\n",
    "\n",
    "print(f'SP representou {PERC_SP:.2f}% do valor total mensal')\n",
    "print(f'RJ representou {PERC_RJ:.2f}% do valor total mensal')\n",
    "print(f'MG representou {PERC_MG:.2f}% do valor total mensal')\n",
    "print(f'ES representou {PERC_ES:.2f}% do valor total mensal')\n",
    "print(f'Outros estados representaram {PERC_OUTROS:.2f}% do valor total mensal')"
   ]
  },
  {
   "cell_type": "code",
   "execution_count": null,
   "metadata": {},
   "outputs": [],
   "source": [
    "str = \"LearnPython\"\n",
    "string_reversed=[]\n",
    "i = len(str)\n",
    "while i > 0: \n",
    "    string_reversed += str[i-1]\n",
    "    i = i - 1 \n",
    "print(\"string reversa é\", string_reversed)"
   ]
  }
 ],
 "metadata": {
  "kernelspec": {
   "display_name": "Python 3.10.2 64-bit",
   "language": "python",
   "name": "python3"
  },
  "language_info": {
   "codemirror_mode": {
    "name": "ipython",
    "version": 3
   },
   "file_extension": ".py",
   "mimetype": "text/x-python",
   "name": "python",
   "nbconvert_exporter": "python",
   "pygments_lexer": "ipython3",
   "version": "3.10.2"
  },
  "orig_nbformat": 4,
  "vscode": {
   "interpreter": {
    "hash": "05e7abd86e48c818ed61a9de938025b203e1f443f714ea9235372e47a1ee3433"
   }
  }
 },
 "nbformat": 4,
 "nbformat_minor": 2
}
